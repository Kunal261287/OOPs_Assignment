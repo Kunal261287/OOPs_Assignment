{
 "cells": [
  {
   "cell_type": "markdown",
   "id": "6a48aab4-6318-4d03-945b-e6c2fd6b399e",
   "metadata": {},
   "source": [
    "1. What is Object-Oriented Programming (OOP)?\n",
    "   --> Object-Oriented Programming (OOP) is a programming paradigm that organizes code by grouping related data and behaviors into units\n",
    "       called objects. It focuses on modeling real-world entities and their interactions using classes and objects."
   ]
  },
  {
   "cell_type": "markdown",
   "id": "668fff6c-1ed1-4820-a281-ce2c333d9f1e",
   "metadata": {},
   "source": [
    "2. What is a class in OOP?\n",
    "   --> In Object-Oriented Programming (OOP), a class is a blueprint or template used to create objects. It defines the attributes (data) and\n",
    "       methods (functions) that the objects created from the class will have."
   ]
  },
  {
   "cell_type": "markdown",
   "id": "a655dd57-a336-4ab6-8281-6d74cc3109e5",
   "metadata": {},
   "source": [
    "3. What is an object in OOP?\n",
    "   --> In Object-Oriented Programming (OOP), an object is an instance of a class. It represents a specific, real-world entity that has both\n",
    "       state (data) and behavior (functions or methods)."
   ]
  },
  {
   "cell_type": "markdown",
   "id": "23f530c6-5d48-44cf-9547-1ae5a343b056",
   "metadata": {},
   "source": [
    "4. What is the difference between abstraction and encapsulation?\n",
    "   --> Abstraction and Encapsulation are both fundamental concepts in Object-Oriented Programming (OOP), and while they're related,\n",
    "       they serve different purposes.\n",
    "\n",
    "       Abstraction – Hiding complexity, showing only essentials\n",
    "        What it does: Hides implementation details and exposes only the necessary features.\n",
    "        Goal: To simplify the interface for the user of a class or method.\n",
    "        Focus: What an object does.\n",
    "\n",
    "       Encapsulation – Hiding data, controlling access\n",
    "        What it does: Bundles data and methods that operate on that data into one unit (class), and restricts direct access to some components.\n",
    "        Goal: To protect internal state and ensure controlled modification.\n",
    "        Focus: How the data is protected and accessed."
   ]
  },
  {
   "cell_type": "markdown",
   "id": "1c5b6794-003b-4462-b2f1-4196240f5c8a",
   "metadata": {},
   "source": [
    "5. What are dunder methods in Python?\n",
    "   --> Dunder methods in Python (short for “double underscore” methods) are special built-in methods that start and end with double underscores\n",
    "       — like __init__, __str__, __len__, etc.\n",
    "        They're also called magic methods and allow you to define how objects of your class behave with built-in operations\n",
    "       (like printing, adding, comparing, etc.).\n",
    "\n"
   ]
  },
  {
   "cell_type": "markdown",
   "id": "e6918471-840a-482e-9ad5-d9478cdb270f",
   "metadata": {},
   "source": [
    "6. Explain the concept of inheritance in OOPH.\n",
    "   --> Inheritance in Object-Oriented Programming (OOP) is a fundamental concept that allows a class to inherit properties and\n",
    "       behaviors (attributes and methods) from another class. It enables code reusability, promotes hierarchical class design, and makes\n",
    "       programs easier to maintain."
   ]
  },
  {
   "cell_type": "markdown",
   "id": "01e80878-695f-49c9-9226-e42930392df3",
   "metadata": {},
   "source": [
    "7. What is polymorphism in OOP?\n",
    "   --> Polymorphism in Object-Oriented Programming (OOP) is the ability of different classes to respond to the same method or operation\n",
    "       in different ways. The word comes from Greek meaning \"many forms.\"\n",
    "       Polymorphism allows you to use a common interface for different types of objects, making your code more flexible and extensible."
   ]
  },
  {
   "cell_type": "markdown",
   "id": "9df49e0c-0696-4591-a68a-9293decad436",
   "metadata": {},
   "source": [
    "8. How is encapsulation achieved in Python?\n",
    "   --> Encapsulation in Python is the concept of bundling data (attributes) and methods that operate on that data into a single unit,\n",
    "       typically a class. It also involves restricting direct access to some of an object's components to prevent unintended interference\n",
    "       and misuse of data.\n",
    "\n",
    "       Encapsulation in Python is achieved using:\n",
    "        Public Attributes: Accessible from outside the class.\n",
    "        Private Attributes: Not directly accessible from outside the class (denoted by a double underscore __).\n",
    "        Protected Attributes: Accessible from within the class and subclasses (denoted by a single underscore _)."
   ]
  },
  {
   "cell_type": "markdown",
   "id": "0d6ff51a-54a1-44d4-acfd-e7e62edecac2",
   "metadata": {},
   "source": [
    "9.  What is a constructor in Python?\n",
    "    --> In Python, a constructor is a special method called __init__() that is automatically called when an object is created from a class.\n",
    "        It is used to initialize the object's state (i.e., set initial values for the object's attributes)."
   ]
  },
  {
   "cell_type": "markdown",
   "id": "72cb06d6-504e-43e9-9ce6-ebae91090068",
   "metadata": {},
   "source": [
    "10. What are class and static methods in Python?\n",
    "    --> In Python, class methods and static methods are two types of methods that belong to the class itself, not to instances of the class (objects). They are different from instance methods, which operate on individual objects. Both class and static methods are defined using special decorators (@classmethod and @staticmethod), respectively."
   ]
  },
  {
   "cell_type": "markdown",
   "id": "d47ae405-3e5c-47b3-9423-592afb7c8978",
   "metadata": {},
   "source": [
    "11. What is method overloading in Python?\n",
    "    --> Method overloading is a concept in Object-Oriented Programming (OOP) where you can define multiple methods in the same class with the\n",
    "        same name but with different parameters (either in number or type). It allows you to perform different operations depending on the\n",
    "        arguments passed to the method.\n",
    "        However, Python does not natively support method overloading as some other languages (like Java or C++) do.\n",
    "        In Python, if you define multiple methods with the same name, the last one defined will overwrite the previous definitions.\n",
    "        But, you can simulate method overloading using default arguments, variable-length arguments (*args, **kwargs), or conditional logic\n",
    "        inside a single method."
   ]
  },
  {
   "cell_type": "markdown",
   "id": "b84551c4-f91b-4d26-bd13-84ed28589204",
   "metadata": {},
   "source": [
    "12. What is method overriding in OOP?\n",
    "    --> Method Overriding is a feature of Object-Oriented Programming (OOP) where a child class provides a specific implementation of\n",
    "        a method that is already defined in its parent class. The overriding method in the child class replaces or modifies the behavior\n",
    "        of the inherited method."
   ]
  },
  {
   "cell_type": "markdown",
   "id": "8135e10a-e61b-4545-ad92-cc9ca3abcb81",
   "metadata": {},
   "source": [
    "13. What is a property decorator in Python?\n",
    "    --> In Python, the @property decorator is used to define a method as a property. This allows you to define a method that can be accessed like an attribute, without needing to call it explicitly with parentheses. The @property decorator helps you encapsulate access to attributes in a class, allowing you to control their behavior (such as validation, computation, or modification) while still maintaining a simple interface for users of your class."
   ]
  },
  {
   "cell_type": "markdown",
   "id": "fe0050c5-92fd-4464-90bf-c3b641b11e29",
   "metadata": {},
   "source": [
    "14. Why is polymorphism important in OOP?\n",
    "    --> Polymorphism is one of the key principles of Object-Oriented Programming (OOP) and plays a crucial role in making code more flexible, extensible, and maintainable. It allows objects of different types to be treated as if they are objects of a common superclass, enabling dynamic behavior at runtime. What is the difference between a class variable and an instance variable+"
   ]
  },
  {
   "cell_type": "markdown",
   "id": "bf683ced-f66e-4259-99e5-d01513f18fae",
   "metadata": {},
   "source": [
    "15. What is an abstract class in Python?\n",
    "    --> An abstract class in Python is a class that cannot be instantiated directly. It serves as a blueprint for other classes and typically contains abstract methods, which are methods that are declared but not implemented in the abstract class itself. Subclasses that inherit from the abstract class are required to implement these abstract methods.\n",
    "Abstract classes are defined using the abc (Abstract Base Class) module, and the abstract methods are marked with the @abstractmethod decorator."
   ]
  },
  {
   "cell_type": "markdown",
   "id": "9892d6f1-4408-4287-9128-8fc0cfd1b76a",
   "metadata": {},
   "source": [
    "16. What are the advantages of OOP?\n",
    "    --> Object-Oriented Programming (OOP) offers several advantages that make it a popular paradigm for software development. By organizing software around objects and classes, OOP helps to improve modularity, reusability, maintainability, and scalability"
   ]
  },
  {
   "cell_type": "markdown",
   "id": "cae4b290-2bab-4b07-8db3-8e8966debc10",
   "metadata": {},
   "source": [
    "17.  What is the difference between a class variable and an instance variable?\n",
    "    --> In Python, class variables and instance variables are two types of variables used to store data. While they may seem similar, they differ in terms of their scope, behavior, and how they are shared across instances of a class. Let's break down the key differences between them:\n",
    "\n",
    "1. Class Variable\n",
    "A class variable is a variable that is shared among all instances of a class. It is defined inside the class but outside any method, and it is accessed using the class name or via instances.\n",
    "\n",
    "Class variables are common to all instances of the class, meaning that if one instance modifies the class variable, it will reflect in all other instances (unless overridden by an instance variable).\n",
    "\n",
    "Scope: Class variables belong to the class itself, not to any particular instance.\n",
    "\n",
    "Use Case: Class variables are often used for attributes that should be the same for all instances, such as constants or counters that keep track of the number of instances.\n",
    "\n",
    "2. Instance Variable\n",
    "An instance variable is a variable that is specific to an instance of a class. It is defined inside a method (typically the __init__ method) and is accessed using self, the reference to the instance.\n",
    "\n",
    "Instance variables are unique to each object of the class, meaning that each instance of the class can have different values for its instance variables.\n",
    "\n",
    "Scope: Instance variables belong to a specific instance of the class.\n",
    "\n",
    "Use Case: Instance variables are typically used to store data that varies from one object to another, such as the name or age of a person."
   ]
  },
  {
   "cell_type": "markdown",
   "id": "a8a061c1-0b8c-41ff-8087-a6ab6b1fd83d",
   "metadata": {},
   "source": [
    "18. What is multiple inheritance in Python?\n",
    "    --> Multiple inheritance in Python refers to the concept of a class inheriting from more than one parent class. This allows a derived class to inherit attributes and methods from more than one base class. It is a feature that enables more flexible and reusable code by combining the functionality of multiple classes into a single derived class.\n",
    "\n",
    "In Python, a class can inherit from multiple classes by specifying them as a comma-separated list in the class definition. This allows the child class to access and override methods and attributes from all of its parent classes."
   ]
  },
  {
   "cell_type": "markdown",
   "id": "d5502bde-4b45-4bc4-9b53-5fc98072a959",
   "metadata": {},
   "source": [
    "19. Explain the purpose of ‘’__str__’ and ‘__repr__’ ‘ methods in Python.\n",
    "    --> In Python, the __str__ and __repr__ methods are special (or dunder) methods used to define how objects of a class are represented as strings. They serve different purposes and are used in different situations, though they can sometimes overlap in behavior. Let’s explore each method and its use:\n",
    "\n",
    "1. __str__ Method:\n",
    "The __str__ method is used to define a user-friendly, informal string representation of an object. It is called by functions like str() and print() when you attempt to convert an object to a string or print it.\n",
    "\n",
    "Purpose: The __str__ method is intended to provide a readable, easy-to-understand string representation of an object that is useful for the end-user.\n",
    "\n",
    "When it’s called: It is invoked when you use print() or str() on an object.\n",
    "\n",
    "2. __repr__ Method:\n",
    "The __repr__ method is used to define a formal string representation of an object, intended for debugging and development. The string returned by __repr__ should ideally provide enough information to recreate the object or at least give a detailed description of the object’s state.\n",
    "\n",
    "Purpose: The __repr__ method is designed to give a more precise and unambiguous representation, primarily for developers. The idea is that __repr__ should provide a string that, when passed to eval(), would ideally recreate the object. However, this is not a strict requirement.\n",
    "\n",
    "When it’s called: It is invoked when you call repr() on an object or when you inspect an object in the interactive interpreter."
   ]
  },
  {
   "cell_type": "markdown",
   "id": "57653f0b-cc5d-4ae4-9442-cdf62d62e382",
   "metadata": {},
   "source": [
    "20. What is the significance of the ‘super()’ function in Python?\n",
    "    --> The super() function in Python is a built-in function that allows you to call methods from a parent (super) class in a child (sub) class. It is commonly used in the context of inheritance to access or extend the functionality of the base class methods from within the derived class.\n",
    "\n",
    "Significance of super():\n",
    "Calling Methods of the Parent Class:\n",
    "\n",
    "The main purpose of super() is to allow you to invoke methods that are inherited from a parent class without explicitly naming the parent class. This can be useful when you want to extend or modify the behavior of the parent class method in the child class.\n",
    "\n",
    "Enabling Method Resolution Order (MRO):\n",
    "\n",
    "In the case of multiple inheritance (where a class inherits from more than one parent class), super() helps ensure that the Method Resolution Order (MRO) is followed. This is important because Python needs to know the order in which to call methods when multiple parent classes are involved.\n",
    "\n",
    "Avoiding Hardcoding of Class Names:\n",
    "\n",
    "super() makes the code more flexible and maintainable by not requiring you to hardcode the name of the parent class. If the class hierarchy changes or if the child class is further subclassed, the code will still work correctly without needing modification.\n",
    "\n",
    "Calling __init__() Method of the Parent Class:\n",
    "\n",
    "The most common use of super() is in the constructor (__init__) of a derived class to ensure that the initialization code from the parent class is properly called, especially when the derived class extends or overrides the parent class's constructor."
   ]
  },
  {
   "cell_type": "markdown",
   "id": "b7f5a5de-a6ef-4ca1-8cc3-99eaa5d32e97",
   "metadata": {},
   "source": [
    "21. What is the significance of the __del__ method in Python?\n",
    "    --> The __del__ method in Python is known as the destructor method. Its purpose is to define cleanup behavior that should happen automatically when an object is about to be destroyed (i.e., when it is garbage collected or explicitly deleted using del)."
   ]
  },
  {
   "cell_type": "markdown",
   "id": "8bf3d15a-d07e-4fb6-a5e6-1a5e0bdbb789",
   "metadata": {},
   "source": [
    "22. What is the difference between @staticmethod and @classmethod in Python?\n",
    "    --> In Python, both @staticmethod and @classmethod are decorators used to define methods that are not instance methods, but they differ in what they receive as the first argument and how they behave."
   ]
  },
  {
   "cell_type": "markdown",
   "id": "c5ad083a-52ae-4df2-b099-d626b391c949",
   "metadata": {},
   "source": [
    "23. How does polymorphism work in Python with inheritance?\n",
    "    --> Polymorphism is a core concept in Object-Oriented Programming (OOP) that allows objects of different classes to be treated as objects of a common superclass, especially when those classes share method names.\n",
    "\n",
    "In Python, polymorphism is achieved through inheritance and method overriding, allowing you to write more generic and flexible code that can work with different types of objects interchangeably."
   ]
  },
  {
   "cell_type": "markdown",
   "id": "ab9dd80c-e563-4f54-8b2a-5d52306a5b4c",
   "metadata": {},
   "source": [
    "24. What is method chaining in Python OOP?\n",
    "    --> Method chaining is a programming technique in which multiple methods are called sequentially on the same object in a single line of code. This is achieved by designing each method to return the object (self) it was called on."
   ]
  },
  {
   "cell_type": "markdown",
   "id": "cd9c715f-7902-4f5c-acd8-e67bff147e9a",
   "metadata": {},
   "source": [
    "25. What is the purpose of the __call__ method in Python?\n",
    "    --> call__ Method in Python — Making Objects Callable\n",
    "The __call__ method in Python is a special (dunder) method that allows an instance of a class to be called like a function."
   ]
  },
  {
   "cell_type": "code",
   "execution_count": null,
   "id": "39417f2a-c923-4d9c-b923-b0688e273be7",
   "metadata": {},
   "outputs": [],
   "source": [
    "#Practical Questions#"
   ]
  },
  {
   "cell_type": "code",
   "execution_count": 66,
   "id": "a1d474ac-f237-4691-b0e8-5d2feb701dd8",
   "metadata": {},
   "outputs": [
    {
     "name": "stdout",
     "output_type": "stream",
     "text": [
      "The animal makes a sound.\n",
      "Bark!\n"
     ]
    }
   ],
   "source": [
    "\"\"\"1. Create a parent class Animal with a method speak() that prints a generic message. Create a child class Dog\n",
    "that overrides the speak() method to print \"Bark!\".\"\"\"\n",
    "class Animal:\n",
    "    def speak(self):\n",
    "        print(\"The animal makes a sound.\")\n",
    "\n",
    "class Dog(Animal):\n",
    "    def speak(self):\n",
    "        print(\"Bark!\")\n",
    "\n",
    "# Create instances\n",
    "generic_animal = Animal()\n",
    "dog = Dog()\n",
    "\n",
    "# Call the speak method\n",
    "generic_animal.speak()  # Output: The animal makes a sound.\n",
    "dog.speak()             # Output: Bark!"
   ]
  },
  {
   "cell_type": "code",
   "execution_count": 67,
   "id": "73184d66-2952-4aac-b1c0-6c94582ee20b",
   "metadata": {},
   "outputs": [
    {
     "name": "stdout",
     "output_type": "stream",
     "text": [
      "Area of circle: 78.54\n",
      "Area of rectangle: 24\n"
     ]
    }
   ],
   "source": [
    "\"\"\"2. Write a program to create an abstract class Shape with a method area(). Derive classes Circle and Rectangle\n",
    "from it and implement the area() method in both.\"\"\"\n",
    "from abc import ABC, abstractmethod\n",
    "import math\n",
    "\n",
    "# Abstract base class\n",
    "class Shape(ABC):\n",
    "    @abstractmethod\n",
    "    def area(self):\n",
    "        pass\n",
    "\n",
    "# Circle class implementing area()\n",
    "class Circle(Shape):\n",
    "    def __init__(self, radius):\n",
    "        self.radius = radius\n",
    "\n",
    "    def area(self):\n",
    "        return math.pi * self.radius ** 2\n",
    "\n",
    "# Rectangle class implementing area()\n",
    "class Rectangle(Shape):\n",
    "    def __init__(self, length, width):\n",
    "        self.length = length\n",
    "        self.width = width\n",
    "\n",
    "    def area(self):\n",
    "        return self.length * self.width\n",
    "\n",
    "# Create objects\n",
    "circle = Circle(5)\n",
    "rectangle = Rectangle(4, 6)\n",
    "\n",
    "# Display areas\n",
    "print(f\"Area of circle: {circle.area():.2f}\")\n",
    "print(f\"Area of rectangle: {rectangle.area()}\")"
   ]
  },
  {
   "cell_type": "code",
   "execution_count": 69,
   "id": "0c7b0220-55e1-4054-8787-db44e51fc849",
   "metadata": {},
   "outputs": [
    {
     "name": "stdout",
     "output_type": "stream",
     "text": [
      "Vehicle Type: Four-Wheeler\n",
      "Car Brand: Tesla\n",
      "Battery Capacity: 75 kWh\n"
     ]
    }
   ],
   "source": [
    "\"\"\"3. Implement a multi-level inheritance scenario where a class Vehicle has an attribute type. Derive a class Car\n",
    "and further derive a class ElectricCar that adds a battery attribute.\"\"\"\n",
    "# Base class\n",
    "class Vehicle:\n",
    "    def __init__(self, vehicle_type):\n",
    "        self.vehicle_type = vehicle_type\n",
    "\n",
    "    def display_type(self):\n",
    "        print(f\"Vehicle Type: {self.vehicle_type}\")\n",
    "\n",
    "# First level derived class\n",
    "class Car(Vehicle):\n",
    "    def __init__(self, vehicle_type, brand):\n",
    "        super().__init__(vehicle_type)\n",
    "        self.brand = brand\n",
    "\n",
    "    def display_brand(self):\n",
    "        print(f\"Car Brand: {self.brand}\")\n",
    "\n",
    "# Second level derived class\n",
    "class ElectricCar(Car):\n",
    "    def __init__(self, vehicle_type, brand, battery_capacity):\n",
    "        super().__init__(vehicle_type, brand)\n",
    "        self.battery_capacity = battery_capacity\n",
    "\n",
    "    def display_battery(self):\n",
    "        print(f\"Battery Capacity: {self.battery_capacity} kWh\")\n",
    "\n",
    "# Create an ElectricCar object\n",
    "my_electric_car = ElectricCar(\"Four-Wheeler\", \"Tesla\", 75)\n",
    "\n",
    "# Call methods from all levels\n",
    "my_electric_car.display_type()     # From Vehicle\n",
    "my_electric_car.display_brand()    # From Car\n",
    "my_electric_car.display_battery()  # From ElectricCar"
   ]
  },
  {
   "cell_type": "code",
   "execution_count": 70,
   "id": "c5719304-3b23-4cac-9ff9-39b24a0d42fc",
   "metadata": {},
   "outputs": [
    {
     "name": "stdout",
     "output_type": "stream",
     "text": [
      "Sparrow flies high in the sky.\n",
      "Penguins cannot fly, but they swim well.\n"
     ]
    }
   ],
   "source": [
    "\"\"\"4. Demonstrate polymorphism by creating a base class Bird with a method fly(). Create two derived classes\n",
    "Sparrow and Penguin that override the fly() method.\"\"\"\n",
    "# Base class\n",
    "class Bird:\n",
    "    def fly(self):\n",
    "        print(\"Some birds can fly.\")\n",
    "\n",
    "# Derived class 1\n",
    "class Sparrow(Bird):\n",
    "    def fly(self):\n",
    "        print(\"Sparrow flies high in the sky.\")\n",
    "\n",
    "# Derived class 2\n",
    "class Penguin(Bird):\n",
    "    def fly(self):\n",
    "        print(\"Penguins cannot fly, but they swim well.\")\n",
    "\n",
    "# Function to demonstrate polymorphism\n",
    "def bird_fly_demo(bird):\n",
    "    bird.fly()  # Calls the appropriate method based on the object's class\n",
    "\n",
    "# Create instances\n",
    "sparrow = Sparrow()\n",
    "penguin = Penguin()\n",
    "\n",
    "# Demonstrate polymorphism\n",
    "bird_fly_demo(sparrow)  # Output: Sparrow flies high in the sky.\n",
    "bird_fly_demo(penguin)  # Output: Penguins cannot fly, but they swim well."
   ]
  },
  {
   "cell_type": "code",
   "execution_count": 71,
   "id": "150cbf50-a78b-4467-a247-18e95bd49f68",
   "metadata": {},
   "outputs": [
    {
     "name": "stdout",
     "output_type": "stream",
     "text": [
      "Deposited $500. Current balance: $1500\n",
      "Withdrew $300. Current balance: $1200\n",
      "Final balance: $1200\n"
     ]
    }
   ],
   "source": [
    "\"\"\"5. Write a program to demonstrate encapsulation by creating a class BankAccount with private attributes\n",
    "balance and methods to deposit, withdraw, and check balance.\"\"\"\n",
    "class BankAccount:\n",
    "    def __init__(self, owner, balance=0):\n",
    "        self.owner = owner\n",
    "        self.__balance = balance  # Private attribute\n",
    "\n",
    "    def deposit(self, amount):\n",
    "        if amount > 0:\n",
    "            self.__balance += amount\n",
    "            print(f\"Deposited ${amount}. Current balance: ${self.__balance}\")\n",
    "        else:\n",
    "            print(\"Deposit amount must be positive.\")\n",
    "\n",
    "    def withdraw(self, amount):\n",
    "        if amount > 0 and amount <= self.__balance:\n",
    "            self.__balance -= amount\n",
    "            print(f\"Withdrew ${amount}. Current balance: ${self.__balance}\")\n",
    "        else:\n",
    "            print(\"Invalid withdrawal amount.\")\n",
    "\n",
    "    def get_balance(self):\n",
    "        return self.__balance  # Provides access to the private balance\n",
    "\n",
    "# Create a bank account object\n",
    "account = BankAccount(\"John\", 1000)\n",
    "\n",
    "# Deposit money\n",
    "account.deposit(500)\n",
    "\n",
    "# Withdraw money\n",
    "account.withdraw(300)\n",
    "\n",
    "# Check balance\n",
    "print(f\"Final balance: ${account.get_balance()}\")"
   ]
  },
  {
   "cell_type": "code",
   "execution_count": 72,
   "id": "8233550a-8b7a-426e-b255-a3f45cbf4a81",
   "metadata": {},
   "outputs": [
    {
     "name": "stdout",
     "output_type": "stream",
     "text": [
      "Strumming the guitar\n",
      "Playing the piano\n"
     ]
    }
   ],
   "source": [
    "\"\"\"6. Demonstrate runtime polymorphism using a method play() in a base class Instrument. Derive classes Guitar\n",
    "and Piano that implement their own version of play().\"\"\"\n",
    "# Base class\n",
    "class Instrument:\n",
    "    def play(self):\n",
    "        print(\"Playing the instrument\")\n",
    "\n",
    "# Derived class Guitar\n",
    "class Guitar(Instrument):\n",
    "    def play(self):\n",
    "        print(\"Strumming the guitar\")\n",
    "\n",
    "# Derived class Piano\n",
    "class Piano(Instrument):\n",
    "    def play(self):\n",
    "        print(\"Playing the piano\")\n",
    "\n",
    "# Function to demonstrate polymorphism\n",
    "def instrument_play_demo(instrument):\n",
    "    instrument.play()  # The appropriate play() method is called based on the actual object\n",
    "\n",
    "# Create instances\n",
    "guitar = Guitar()\n",
    "piano = Piano()\n",
    "\n",
    "# Demonstrating runtime polymorphism\n",
    "instrument_play_demo(guitar)  # Output: Strumming the guitar\n",
    "instrument_play_demo(piano)   # Output: Playing the piano"
   ]
  },
  {
   "cell_type": "code",
   "execution_count": 73,
   "id": "27893dec-fb6b-43ca-9f8b-07072239279b",
   "metadata": {},
   "outputs": [
    {
     "name": "stdout",
     "output_type": "stream",
     "text": [
      "Sum: 15\n",
      "Difference: 5\n"
     ]
    }
   ],
   "source": [
    "\"\"\"7. Create a class MathOperations with a class method add_numbers() to add two numbers and a static\n",
    "method subtract_numbers() to subtract two numbers.\"\"\"\n",
    "class MathOperations:\n",
    "    @classmethod\n",
    "    def add_numbers(cls, num1, num2):\n",
    "        return num1 + num2\n",
    "\n",
    "    @staticmethod\n",
    "    def subtract_numbers(num1, num2):\n",
    "        return num1 - num2\n",
    "\n",
    "# Using class method to add numbers\n",
    "sum_result = MathOperations.add_numbers(10, 5)\n",
    "print(f\"Sum: {sum_result}\")\n",
    "\n",
    "# Using static method to subtract numbers\n",
    "difference_result = MathOperations.subtract_numbers(10, 5)\n",
    "print(f\"Difference: {difference_result}\")"
   ]
  },
  {
   "cell_type": "code",
   "execution_count": 74,
   "id": "a4b31aa8-9613-41cf-875c-ae46c7099e55",
   "metadata": {},
   "outputs": [
    {
     "name": "stdout",
     "output_type": "stream",
     "text": [
      "Total persons created: 3\n"
     ]
    }
   ],
   "source": [
    "#8. Implement a class Person with a class method to count the total number of persons created.\n",
    "class Person:\n",
    "    # Class variable to keep track of the total number of Person instances\n",
    "    total_persons = 0\n",
    "    \n",
    "    def __init__(self, name, age):\n",
    "        self.name = name\n",
    "        self.age = age\n",
    "        # Increment the count of total persons every time a new person is created\n",
    "        Person.total_persons += 1\n",
    "\n",
    "    @classmethod\n",
    "    def count_persons(cls):\n",
    "        return cls.total_persons\n",
    "\n",
    "# Creating instances of the Person class\n",
    "person1 = Person(\"Alice\", 30)\n",
    "person2 = Person(\"Bob\", 25)\n",
    "person3 = Person(\"Charlie\", 35)\n",
    "\n",
    "# Using the class method to get the total number of persons created\n",
    "print(f\"Total persons created: {Person.count_persons()}\")"
   ]
  },
  {
   "cell_type": "code",
   "execution_count": 75,
   "id": "a02d8fd3-e61d-4089-a043-7e3c60cf6524",
   "metadata": {},
   "outputs": [
    {
     "name": "stdout",
     "output_type": "stream",
     "text": [
      "3/4\n"
     ]
    }
   ],
   "source": [
    "\"\"\"9. Write a class Fraction with attributes numerator and denominator. Override the str method to display the\n",
    "fraction as \"numerator/denominator\".\"\"\"\n",
    "class Fraction:\n",
    "    def __init__(self, numerator, denominator):\n",
    "        self.numerator = numerator\n",
    "        self.denominator = denominator\n",
    "\n",
    "    # Overriding __str__ method to display the fraction as \"numerator/denominator\"\n",
    "    def __str__(self):\n",
    "        return f\"{self.numerator}/{self.denominator}\"\n",
    "\n",
    "# Create a Fraction instance\n",
    "fraction = Fraction(3, 4)\n",
    "\n",
    "# Print the fraction (this will automatically call __str__ method)\n",
    "print(fraction)  # Output: 3/4"
   ]
  },
  {
   "cell_type": "code",
   "execution_count": 76,
   "id": "dfc16f27-9b8a-492e-b9bb-2478d41b7f00",
   "metadata": {},
   "outputs": [
    {
     "name": "stdout",
     "output_type": "stream",
     "text": [
      "Result of adding vectors: (4, 6)\n"
     ]
    }
   ],
   "source": [
    "\"\"\"10. Demonstrate operator overloading by creating a class Vector and overriding the add method to add two\n",
    "vectors\"\"\"\n",
    "class Vector:\n",
    "    def __init__(self, x, y):\n",
    "        self.x = x\n",
    "        self.y = y\n",
    "\n",
    "    # Overriding the __add__ method to add two vectors\n",
    "    def __add__(self, other):\n",
    "        # Adding corresponding components of the vectors\n",
    "        return Vector(self.x + other.x, self.y + other.y)\n",
    "\n",
    "    # Overriding the __str__ method to print the vector in a readable format\n",
    "    def __str__(self):\n",
    "        return f\"({self.x}, {self.y})\"\n",
    "\n",
    "# Creating two vector instances\n",
    "vector1 = Vector(3, 4)\n",
    "vector2 = Vector(1, 2)\n",
    "\n",
    "# Adding two vectors using overloaded + operator\n",
    "result = vector1 + vector2\n",
    "\n",
    "# Display the result (this will call the __str__ method)\n",
    "print(\"Result of adding vectors:\", result)  # Output: (4, 6)"
   ]
  },
  {
   "cell_type": "code",
   "execution_count": 77,
   "id": "63a0c879-b8bf-48e6-9788-e503e7dffa2d",
   "metadata": {},
   "outputs": [
    {
     "name": "stdout",
     "output_type": "stream",
     "text": [
      "Hello, my name is Alice and I am 30 years old.\n"
     ]
    }
   ],
   "source": [
    "\"\"\"11. Create a class Person with attributes name and age. Add a method greet() that prints \"Hello, my name is\n",
    "{name} and I am {age} years old.\"\"\"\n",
    "class Person:\n",
    "    def __init__(self, name, age):\n",
    "        self.name = name\n",
    "        self.age = age\n",
    "\n",
    "    def greet(self):\n",
    "        print(f\"Hello, my name is {self.name} and I am {self.age} years old.\")\n",
    "\n",
    "# Create an instance of the Person class\n",
    "person1 = Person(\"Alice\", 30)\n",
    "\n",
    "# Call the greet method\n",
    "person1.greet()  # Output: Hello, my name is Alice and I am 30 years old."
   ]
  },
  {
   "cell_type": "code",
   "execution_count": 78,
   "id": "6f243595-bd3b-45fb-b09e-d021b8a11c86",
   "metadata": {},
   "outputs": [
    {
     "name": "stdout",
     "output_type": "stream",
     "text": [
      "Alice's average grade is: 86.60\n"
     ]
    }
   ],
   "source": [
    "\"\"\"12. Implement a class Student with attributes name and grades. Create a method average_grade() to compute\n",
    "the average of the grades.\"\"\"\n",
    "class Student:\n",
    "    def __init__(self, name, grades):\n",
    "        self.name = name  # Student's name\n",
    "        self.grades = grades  # List of grades\n",
    "\n",
    "    def average_grade(self):\n",
    "        if len(self.grades) == 0:\n",
    "            return 0  # Avoid division by zero if there are no grades\n",
    "        return sum(self.grades) / len(self.grades)  # Calculate and return the average\n",
    "\n",
    "# Create an instance of the Student class\n",
    "student1 = Student(\"Alice\", [85, 90, 78, 92, 88])\n",
    "\n",
    "# Call the average_grade method\n",
    "average = student1.average_grade()\n",
    "\n",
    "# Print the result\n",
    "print(f\"{student1.name}'s average grade is: {average:.2f}\")  # Output: Alice's average grade is: 86.60"
   ]
  },
  {
   "cell_type": "code",
   "execution_count": 79,
   "id": "67d5c677-4eea-4e8c-9a51-8056bfb28e92",
   "metadata": {},
   "outputs": [
    {
     "name": "stdout",
     "output_type": "stream",
     "text": [
      "Area of the rectangle: 15\n"
     ]
    }
   ],
   "source": [
    "\"\"\"13. Create a class Rectangle with methods set_dimensions() to set the dimensions and area() to calculate the\n",
    "area.\"\"\"\n",
    "class Rectangle:\n",
    "    def __init__(self):\n",
    "        self.length = 0\n",
    "        self.width = 0\n",
    "\n",
    "    # Method to set the dimensions of the rectangle\n",
    "    def set_dimensions(self, length, width):\n",
    "        self.length = length\n",
    "        self.width = width\n",
    "\n",
    "    # Method to calculate the area of the rectangle\n",
    "    def area(self):\n",
    "        return self.length * self.width\n",
    "\n",
    "# Create an instance of the Rectangle class\n",
    "rectangle = Rectangle()\n",
    "\n",
    "# Set the dimensions of the rectangle\n",
    "rectangle.set_dimensions(5, 3)\n",
    "\n",
    "# Calculate and print the area of the rectangle\n",
    "print(f\"Area of the rectangle: {rectangle.area()}\")  # Output: Area of the rectangle: 15"
   ]
  },
  {
   "cell_type": "code",
   "execution_count": 82,
   "id": "9c0f7fa6-46a1-4959-93ac-c7a52ee1a3ed",
   "metadata": {},
   "outputs": [
    {
     "name": "stdout",
     "output_type": "stream",
     "text": [
      "John's Salary: $600\n",
      "Sarah's Salary (with bonus): $1300\n"
     ]
    }
   ],
   "source": [
    "\"\"\"14. Create a class Employee with a method calculate_salary() that computes the salary based on hours worked\n",
    "and hourly rate. Create a derived class Manager that adds a bonus to the salary.\"\"\"\n",
    "class Employee:\n",
    "    def __init__(self, name, hours_worked, hourly_rate):\n",
    "        self.name = name\n",
    "        self.hours_worked = hours_worked\n",
    "        self.hourly_rate = hourly_rate\n",
    "\n",
    "    # Method to calculate the salary of the employee\n",
    "    def calculate_salary(self):\n",
    "        return self.hours_worked * self.hourly_rate\n",
    "\n",
    "# Derived class Manager which adds a bonus to the salary\n",
    "class Manager(Employee):\n",
    "    def __init__(self, name, hours_worked, hourly_rate, bonus):\n",
    "        super().__init__(name, hours_worked, hourly_rate)  # Initialize the Employee part\n",
    "        self.bonus = bonus  # Additional bonus for the manager\n",
    "\n",
    "    # Override the calculate_salary method to include the bonus\n",
    "    def calculate_salary(self):\n",
    "        base_salary = super().calculate_salary()  # Calculate base salary using the Employee method\n",
    "        return base_salary + self.bonus  # Add bonus to the base salary\n",
    "\n",
    "# Create an instance of Employee\n",
    "employee = Employee(\"John\", 40, 15)\n",
    "\n",
    "# Create an instance of Manager\n",
    "manager = Manager(\"Sarah\", 40, 20, 500)\n",
    "\n",
    "# Print the salary of the employee and the manager\n",
    "print(f\"{employee.name}'s Salary: ${employee.calculate_salary()}\")  # Output: John's Salary: $600\n",
    "print(f\"{manager.name}'s Salary (with bonus): ${manager.calculate_salary()}\")  # Output: Sarah's Salary (with bonus): $900"
   ]
  },
  {
   "cell_type": "code",
   "execution_count": 83,
   "id": "de804a88-7afb-4362-aa2f-3b14cc80813f",
   "metadata": {},
   "outputs": [
    {
     "name": "stdout",
     "output_type": "stream",
     "text": [
      "Total price of Laptop: $3600\n"
     ]
    }
   ],
   "source": [
    "\"\"\"15. Create a class Product with attributes name, price, and quantity. Implement a method total_price() that\n",
    "calculates the total price of the product.\"\"\"\n",
    "class Product:\n",
    "    def __init__(self, name, price, quantity):\n",
    "        self.name = name      # Name of the product\n",
    "        self.price = price    # Price of the product\n",
    "        self.quantity = quantity  # Quantity of the product\n",
    "\n",
    "    # Method to calculate the total price (price * quantity)\n",
    "    def total_price(self):\n",
    "        return self.price * self.quantity\n",
    "\n",
    "# Create an instance of Product\n",
    "product1 = Product(\"Laptop\", 1200, 3)\n",
    "\n",
    "# Calculate and print the total price of the product\n",
    "print(f\"Total price of {product1.name}: ${product1.total_price()}\")  # Output: Total price of Laptop: $3600"
   ]
  },
  {
   "cell_type": "code",
   "execution_count": 84,
   "id": "cfad9c81-cb36-41e9-9f1d-54ad31baad3f",
   "metadata": {},
   "outputs": [
    {
     "name": "stdout",
     "output_type": "stream",
     "text": [
      "Cow sound: Moo\n",
      "Sheep sound: Baa\n"
     ]
    }
   ],
   "source": [
    "\"\"\"16. Create a class Animal with an abstract method sound(). Create two derived classes Cow and Sheep that\n",
    "implement the sound() method.\"\"\"\n",
    "from abc import ABC, abstractmethod\n",
    "\n",
    "# Abstract base class Animal\n",
    "class Animal(ABC):\n",
    "    @abstractmethod\n",
    "    def sound(self):\n",
    "        pass  # Abstract method that must be implemented by subclasses\n",
    "\n",
    "# Derived class Cow\n",
    "class Cow(Animal):\n",
    "    def sound(self):\n",
    "        return \"Moo\"\n",
    "\n",
    "# Derived class Sheep\n",
    "class Sheep(Animal):\n",
    "    def sound(self):\n",
    "        return \"Baa\"\n",
    "\n",
    "# Create instances of Cow and Sheep\n",
    "cow = Cow()\n",
    "sheep = Sheep()\n",
    "\n",
    "# Call the sound method on both instances\n",
    "print(f\"Cow sound: {cow.sound()}\")  # Output: Cow sound: Moo\n",
    "print(f\"Sheep sound: {sheep.sound()}\")  # Output: Sheep sound: Baa"
   ]
  },
  {
   "cell_type": "code",
   "execution_count": 85,
   "id": "1c398366-9a83-4ad8-9518-8ac9f16fcef1",
   "metadata": {},
   "outputs": [
    {
     "name": "stdout",
     "output_type": "stream",
     "text": [
      "'To Kill a Mockingbird' by Harper Lee, published in 1960\n"
     ]
    }
   ],
   "source": [
    "\"\"\"17. Create a class Book with attributes title, author, and year_published. Add a method get_book_info() that\n",
    "returns a formatted string with the book's details.\"\"\"\n",
    "class Book:\n",
    "    def __init__(self, title, author, year_published):\n",
    "        self.title = title           # Title of the book\n",
    "        self.author = author         # Author of the book\n",
    "        self.year_published = year_published  # Year the book was published\n",
    "\n",
    "    # Method to return a formatted string with the book's details\n",
    "    def get_book_info(self):\n",
    "        return f\"'{self.title}' by {self.author}, published in {self.year_published}\"\n",
    "\n",
    "# Create an instance of the Book class\n",
    "book1 = Book(\"To Kill a Mockingbird\", \"Harper Lee\", 1960)\n",
    "\n",
    "# Call the get_book_info method to get the details of the book\n",
    "book_info = book1.get_book_info()\n",
    "\n",
    "# Print the book details\n",
    "print(book_info)  # Output: 'To Kill a Mockingbird' by Harper Lee, published in 1960"
   ]
  },
  {
   "cell_type": "code",
   "execution_count": 86,
   "id": "a60140c1-32cf-4784-9408-ea6a35db8b31",
   "metadata": {},
   "outputs": [
    {
     "name": "stdout",
     "output_type": "stream",
     "text": [
      "House located at 123 Elm St costs $250000\n",
      "House located at 456 Oak Ave costs $1500000 and has 12 rooms.\n"
     ]
    }
   ],
   "source": [
    "\"\"\"18. Create a class House with attributes address and price. Create a derived class Mansion that adds an\n",
    "attribute number_of_rooms.\"\"\"\n",
    "# Base class House\n",
    "class House:\n",
    "    def __init__(self, address, price):\n",
    "        self.address = address  # Address of the house\n",
    "        self.price = price      # Price of the house\n",
    "\n",
    "    # Method to display house information\n",
    "    def get_house_info(self):\n",
    "        return f\"House located at {self.address} costs ${self.price}\"\n",
    "\n",
    "# Derived class Mansion\n",
    "class Mansion(House):\n",
    "    def __init__(self, address, price, number_of_rooms):\n",
    "        super().__init__(address, price)  # Initialize the base class (House)\n",
    "        self.number_of_rooms = number_of_rooms  # Additional attribute for Mansion\n",
    "\n",
    "    # Override the method to include the number of rooms\n",
    "    def get_house_info(self):\n",
    "        base_info = super().get_house_info()  # Get base house info\n",
    "        return f\"{base_info} and has {self.number_of_rooms} rooms.\"\n",
    "\n",
    "# Create an instance of House\n",
    "house1 = House(\"123 Elm St\", 250000)\n",
    "\n",
    "# Create an instance of Mansion\n",
    "mansion1 = Mansion(\"456 Oak Ave\", 1500000, 12)\n",
    "\n",
    "# Print the information for the house and mansion\n",
    "print(house1.get_house_info())  # Output: House located at 123 Elm St costs $250000\n",
    "print(mansion1.get_house_info())  # Output: House located at 456 Oak Ave costs $1500000 and has 12 rooms."
   ]
  },
  {
   "cell_type": "code",
   "execution_count": null,
   "id": "e7ea3781-f640-47f0-a3f7-607b9afb7e91",
   "metadata": {},
   "outputs": [],
   "source": []
  }
 ],
 "metadata": {
  "kernelspec": {
   "display_name": "Python 3 (ipykernel)",
   "language": "python",
   "name": "python3"
  },
  "language_info": {
   "codemirror_mode": {
    "name": "ipython",
    "version": 3
   },
   "file_extension": ".py",
   "mimetype": "text/x-python",
   "name": "python",
   "nbconvert_exporter": "python",
   "pygments_lexer": "ipython3",
   "version": "3.13.2"
  }
 },
 "nbformat": 4,
 "nbformat_minor": 5
}
